{
  "nbformat": 4,
  "nbformat_minor": 0,
  "metadata": {
    "colab": {
      "name": "Exercise0.ipynb",
      "provenance": [],
      "authorship_tag": "ABX9TyP83QuZQXycQUmutx/3ESIw",
      "include_colab_link": true
    },
    "kernelspec": {
      "name": "python3",
      "display_name": "Python 3"
    },
    "language_info": {
      "name": "python"
    }
  },
  "cells": [
    {
      "cell_type": "markdown",
      "metadata": {
        "id": "view-in-github",
        "colab_type": "text"
      },
      "source": [
        "<a href=\"https://colab.research.google.com/github/Sujay-510/Numpy-exercise/blob/main/Exercise0.ipynb\" target=\"_parent\"><img src=\"https://colab.research.google.com/assets/colab-badge.svg\" alt=\"Open In Colab\"/></a>"
      ]
    },
    {
      "cell_type": "markdown",
      "metadata": {
        "id": "OAE3zZ5JFV-W"
      },
      "source": [
        "# SOME NUMPY EXERCISE FOR BEGINNER"
      ]
    },
    {
      "cell_type": "code",
      "metadata": {
        "colab": {
          "base_uri": "https://localhost:8080/"
        },
        "id": "a_1chZ-KOm0E",
        "outputId": "762d1bfe-795f-41d1-8133-ef2cd8208486"
      },
      "source": [
        "import numpy as np\n",
        "a=np.array([1,2,3])\n",
        "print(a)"
      ],
      "execution_count": null,
      "outputs": [
        {
          "output_type": "stream",
          "name": "stdout",
          "text": [
            "[1 2 3]\n"
          ]
        }
      ]
    },
    {
      "cell_type": "code",
      "metadata": {
        "colab": {
          "base_uri": "https://localhost:8080/"
        },
        "id": "Ep5pXWwhitXq",
        "outputId": "a2e6e074-071f-467f-c6da-537a1880d5ee"
      },
      "source": [
        "a=str(input(\"ENTER A STRING: \"))\n",
        "b=str(input(\"ENTER A STRING: \"))\n",
        "c=str(input(\"ENTER A STRING: \"))\n",
        "d=str(input(\"ENTER A STRING: \"))\n",
        "e=str(input(\"ENTER A STRING: \"))\n",
        "f=str(input(\"ENTER A STRING: \"))\n",
        "print(a.lower())\n",
        "print(b.upper())\n",
        "print(len(c))\n",
        "print(d.casefold())\n",
        "print(e.islower())\n",
        "print(f.isnumeric())"
      ],
      "execution_count": null,
      "outputs": [
        {
          "output_type": "stream",
          "text": [
            "ENTER A STRING: HII\n",
            "ENTER A STRING: hello\n",
            "ENTER A STRING: thats awsome\n",
            "ENTER A STRING: ohh yaa thats cool\n",
            "ENTER A STRING: my turn ok ?\n",
            "ENTER A STRING: yesssssssssss55656\n",
            "hii\n",
            "HELLO\n",
            "12\n",
            "ohh yaa thats cool\n",
            "True\n",
            "False\n"
          ],
          "name": "stdout"
        }
      ]
    },
    {
      "cell_type": "code",
      "metadata": {
        "id": "KJpYF2X3iuuE"
      },
      "source": [
        ""
      ],
      "execution_count": null,
      "outputs": []
    },
    {
      "cell_type": "code",
      "metadata": {
        "colab": {
          "base_uri": "https://localhost:8080/"
        },
        "id": "GsyoasL6ekPZ",
        "outputId": "ba25576e-33bb-4a18-d5a8-ed30121be9fa"
      },
      "source": [
        "for i in range(6):\n",
        "  print(i)"
      ],
      "execution_count": null,
      "outputs": [
        {
          "output_type": "stream",
          "text": [
            "0\n",
            "1\n",
            "2\n",
            "3\n",
            "4\n",
            "5\n"
          ],
          "name": "stdout"
        }
      ]
    },
    {
      "cell_type": "code",
      "metadata": {
        "colab": {
          "base_uri": "https://localhost:8080/"
        },
        "id": "ZWQEwMSce3HP",
        "outputId": "1d7ef500-9f6e-4ccb-ad99-9286637fb9e1"
      },
      "source": [
        "r=2\n",
        "while(r<10):\n",
        "  print(r)\n",
        "  r+=1"
      ],
      "execution_count": null,
      "outputs": [
        {
          "output_type": "stream",
          "text": [
            "2\n",
            "3\n",
            "4\n",
            "5\n",
            "6\n",
            "7\n",
            "8\n",
            "9\n"
          ],
          "name": "stdout"
        }
      ]
    },
    {
      "cell_type": "code",
      "metadata": {
        "colab": {
          "base_uri": "https://localhost:8080/"
        },
        "id": "28eEqJMYPcoQ",
        "outputId": "1df9211b-cab1-4a9e-9906-68d720492833"
      },
      "source": [
        "print(a)"
      ],
      "execution_count": null,
      "outputs": [
        {
          "output_type": "stream",
          "text": [
            "[1 2 3]\n"
          ],
          "name": "stdout"
        }
      ]
    },
    {
      "cell_type": "code",
      "metadata": {
        "colab": {
          "base_uri": "https://localhost:8080/"
        },
        "id": "UOUWd16oPuBB",
        "outputId": "9e90a401-f08c-4d9a-a1a7-6d381ee4ef0f"
      },
      "source": [
        "b=np.array([[1,2,3,4,5,6],[7,8,9,10,11,12]])\n",
        "print(b)"
      ],
      "execution_count": null,
      "outputs": [
        {
          "output_type": "stream",
          "text": [
            "[[ 1  2  3  4  5  6]\n",
            " [ 7  8  9 10 11 12]]\n"
          ],
          "name": "stdout"
        }
      ]
    },
    {
      "cell_type": "code",
      "metadata": {
        "colab": {
          "base_uri": "https://localhost:8080/"
        },
        "id": "MNuHoZbMQjp9",
        "outputId": "5ebd3c1b-1e6a-4d0c-9654-25815a4c597e"
      },
      "source": [
        "b[1,:]"
      ],
      "execution_count": null,
      "outputs": [
        {
          "output_type": "execute_result",
          "data": {
            "text/plain": [
              "array([ 7,  8,  9, 10, 11, 12])"
            ]
          },
          "metadata": {},
          "execution_count": 7
        }
      ]
    },
    {
      "cell_type": "code",
      "metadata": {
        "colab": {
          "base_uri": "https://localhost:8080/"
        },
        "id": "R5AtKSapQuKG",
        "outputId": "548dc30a-f9d1-4d81-c7fd-060089494acb"
      },
      "source": [
        "b[1,2]"
      ],
      "execution_count": null,
      "outputs": [
        {
          "output_type": "execute_result",
          "data": {
            "text/plain": [
              "9"
            ]
          },
          "metadata": {},
          "execution_count": 8
        }
      ]
    },
    {
      "cell_type": "code",
      "metadata": {
        "colab": {
          "base_uri": "https://localhost:8080/"
        },
        "id": "jv1SY2MhQ446",
        "outputId": "7c7725fe-47e5-42af-cad2-0a9febf9f59b"
      },
      "source": [
        "b[1,2]=12\n",
        "print(b)\n",
        "b[1,2]=9\n",
        "print(b)"
      ],
      "execution_count": null,
      "outputs": [
        {
          "output_type": "stream",
          "text": [
            "[[ 1  2  3  4  5  6]\n",
            " [ 7  8 12 10 11 12]]\n",
            "[[ 1  2  3  4  5  6]\n",
            " [ 7  8  9 10 11 12]]\n"
          ],
          "name": "stdout"
        }
      ]
    },
    {
      "cell_type": "code",
      "metadata": {
        "colab": {
          "base_uri": "https://localhost:8080/"
        },
        "id": "8HY8naulRKAu",
        "outputId": "ece114d6-152f-4e31-d343-1bfd2dd625fb"
      },
      "source": [
        "a.dtype\n",
        "a.size*a.itemsize\n",
        "a.itemsize\n",
        "a.ndim\n",
        "b.ndim\n",
        "print(b)"
      ],
      "execution_count": null,
      "outputs": [
        {
          "output_type": "stream",
          "text": [
            "[[ 1  2  3  4  5  6]\n",
            " [ 7  8  9 10 11 12]]\n"
          ],
          "name": "stdout"
        }
      ]
    },
    {
      "cell_type": "code",
      "metadata": {
        "colab": {
          "base_uri": "https://localhost:8080/"
        },
        "id": "L83AxjEzRxZH",
        "outputId": "bd3a71f4-cde6-400b-ca4f-f073d93ee93b"
      },
      "source": [
        "b[1,1:5:1] #getting the rw and elements in sequences"
      ],
      "execution_count": null,
      "outputs": [
        {
          "output_type": "execute_result",
          "data": {
            "text/plain": [
              "10"
            ]
          },
          "metadata": {},
          "execution_count": 23
        }
      ]
    },
    {
      "cell_type": "code",
      "metadata": {
        "colab": {
          "base_uri": "https://localhost:8080/"
        },
        "id": "9SDJe1zRS6Gt",
        "outputId": "4dbda371-182f-4cd5-e3ea-950d5389b2ec"
      },
      "source": [
        "b[:5]"
      ],
      "execution_count": null,
      "outputs": [
        {
          "output_type": "execute_result",
          "data": {
            "text/plain": [
              "array([[ 1,  2,  3,  4,  5,  6],\n",
              "       [ 7,  8,  9, 10, 11, 12]])"
            ]
          },
          "metadata": {},
          "execution_count": 26
        }
      ]
    },
    {
      "cell_type": "code",
      "metadata": {
        "colab": {
          "base_uri": "https://localhost:8080/"
        },
        "id": "wPOHRpXETOOl",
        "outputId": "d18082ac-412d-4a53-b7d0-33414ab5876b"
      },
      "source": [
        "c=np.array([[1,2,3,4,5,6,7,8,9,],[12,13,14,15,16,17,18,19]])\n",
        "print(c)"
      ],
      "execution_count": null,
      "outputs": [
        {
          "output_type": "stream",
          "text": [
            "[list([1, 2, 3, 4, 5, 6, 7, 8, 9]) list([12, 13, 14, 15, 16, 17, 18, 19])]\n"
          ],
          "name": "stdout"
        },
        {
          "output_type": "stream",
          "text": [
            "/usr/local/lib/python3.7/dist-packages/ipykernel_launcher.py:1: VisibleDeprecationWarning: Creating an ndarray from ragged nested sequences (which is a list-or-tuple of lists-or-tuples-or ndarrays with different lengths or shapes) is deprecated. If you meant to do this, you must specify 'dtype=object' when creating the ndarray\n",
            "  \"\"\"Entry point for launching an IPython kernel.\n"
          ],
          "name": "stderr"
        }
      ]
    },
    {
      "cell_type": "markdown",
      "metadata": {
        "id": "LU2-iRGhBA8k"
      },
      "source": [
        "Some Numpy Examples"
      ]
    },
    {
      "cell_type": "code",
      "metadata": {
        "colab": {
          "base_uri": "https://localhost:8080/"
        },
        "id": "yMm4iDVvA_Qt",
        "outputId": "975174ee-76b9-456a-84a4-999e772ef4b6"
      },
      "source": [
        "c=np.array([[[1,2,3],[4,5,6],[4,3,2]],[[7,1,9],[7,8,9],[4,8,9]]])\n",
        "print(c)"
      ],
      "execution_count": null,
      "outputs": [
        {
          "output_type": "stream",
          "name": "stdout",
          "text": [
            "[[[1 2 3]\n",
            "  [4 5 6]\n",
            "  [4 3 2]]\n",
            "\n",
            " [[7 1 9]\n",
            "  [7 8 9]\n",
            "  [4 8 9]]]\n"
          ]
        }
      ]
    },
    {
      "cell_type": "code",
      "metadata": {
        "colab": {
          "base_uri": "https://localhost:8080/"
        },
        "id": "DoDIgMP0BLI_",
        "outputId": "775a248e-01c8-4af5-eb6c-99f3cd625070"
      },
      "source": [
        "c[0,:,:]"
      ],
      "execution_count": null,
      "outputs": [
        {
          "output_type": "execute_result",
          "data": {
            "text/plain": [
              "array([[1, 2, 3],\n",
              "       [4, 5, 6],\n",
              "       [4, 3, 2]])"
            ]
          },
          "metadata": {},
          "execution_count": 3
        }
      ]
    },
    {
      "cell_type": "code",
      "metadata": {
        "colab": {
          "base_uri": "https://localhost:8080/"
        },
        "id": "niN0k4m8BPUQ",
        "outputId": "3dbe790d-2f4a-48ae-dbed-8ce8277829ac"
      },
      "source": [
        "np.full((5,5),1)"
      ],
      "execution_count": null,
      "outputs": [
        {
          "output_type": "execute_result",
          "data": {
            "text/plain": [
              "array([[1, 1, 1, 1, 1],\n",
              "       [1, 1, 1, 1, 1],\n",
              "       [1, 1, 1, 1, 1],\n",
              "       [1, 1, 1, 1, 1],\n",
              "       [1, 1, 1, 1, 1]])"
            ]
          },
          "metadata": {},
          "execution_count": 4
        }
      ]
    },
    {
      "cell_type": "code",
      "metadata": {
        "colab": {
          "base_uri": "https://localhost:8080/"
        },
        "id": "OvwHrHUABT3G",
        "outputId": "728cb4f2-2dd6-4040-8707-e31b5958d503"
      },
      "source": [
        "np.ones((5,5))"
      ],
      "execution_count": null,
      "outputs": [
        {
          "output_type": "execute_result",
          "data": {
            "text/plain": [
              "array([[1., 1., 1., 1., 1.],\n",
              "       [1., 1., 1., 1., 1.],\n",
              "       [1., 1., 1., 1., 1.],\n",
              "       [1., 1., 1., 1., 1.],\n",
              "       [1., 1., 1., 1., 1.]])"
            ]
          },
          "metadata": {},
          "execution_count": 5
        }
      ]
    },
    {
      "cell_type": "code",
      "metadata": {
        "colab": {
          "base_uri": "https://localhost:8080/"
        },
        "id": "GpJuNkAJBYFj",
        "outputId": "253842c5-7bf3-4937-b09d-1f133f3cfe13"
      },
      "source": [
        "z=np.full((3,3),0)\n",
        "print(z)"
      ],
      "execution_count": null,
      "outputs": [
        {
          "output_type": "stream",
          "name": "stdout",
          "text": [
            "[[0 0 0]\n",
            " [0 0 0]\n",
            " [0 0 0]]\n"
          ]
        }
      ]
    },
    {
      "cell_type": "code",
      "metadata": {
        "colab": {
          "base_uri": "https://localhost:8080/"
        },
        "id": "M1lmbyGQEH7N",
        "outputId": "c4c7f076-e123-45e7-8249-e4edeced5d22"
      },
      "source": [
        "np.full((3,8),2)"
      ],
      "execution_count": null,
      "outputs": [
        {
          "output_type": "execute_result",
          "data": {
            "text/plain": [
              "array([[2, 2, 2, 2, 2, 2, 2, 2],\n",
              "       [2, 2, 2, 2, 2, 2, 2, 2],\n",
              "       [2, 2, 2, 2, 2, 2, 2, 2]])"
            ]
          },
          "metadata": {},
          "execution_count": 7
        }
      ]
    },
    {
      "cell_type": "code",
      "metadata": {
        "colab": {
          "base_uri": "https://localhost:8080/"
        },
        "id": "UvlPlhY8ET5e",
        "outputId": "3f51731e-70bc-4c39-f0bc-702b6b179773"
      },
      "source": [
        "c = np.zeros((1,2,4))\n",
        "print(c)"
      ],
      "execution_count": null,
      "outputs": [
        {
          "output_type": "stream",
          "name": "stdout",
          "text": [
            "[[[0. 0. 0. 0.]\n",
            "  [0. 0. 0. 0.]]]\n"
          ]
        }
      ]
    },
    {
      "cell_type": "code",
      "metadata": {
        "colab": {
          "base_uri": "https://localhost:8080/"
        },
        "id": "aDnfeouyEXUl",
        "outputId": "634f575c-850e-471e-bd79-68be7aed5e54"
      },
      "source": [
        "form = np.full_like(c,6)\n",
        "print(form)"
      ],
      "execution_count": null,
      "outputs": [
        {
          "output_type": "stream",
          "name": "stdout",
          "text": [
            "[[[6. 6. 6. 6.]\n",
            "  [6. 6. 6. 6.]]]\n"
          ]
        }
      ]
    },
    {
      "cell_type": "code",
      "metadata": {
        "colab": {
          "base_uri": "https://localhost:8080/"
        },
        "id": "vZIB6RhkEbqu",
        "outputId": "ba10794a-d71a-492c-a9f7-fe912ee64327"
      },
      "source": [
        "form[:,0]"
      ],
      "execution_count": null,
      "outputs": [
        {
          "output_type": "execute_result",
          "data": {
            "text/plain": [
              "array([[6., 6., 6., 6.]])"
            ]
          },
          "metadata": {},
          "execution_count": 10
        }
      ]
    },
    {
      "cell_type": "code",
      "metadata": {
        "colab": {
          "base_uri": "https://localhost:8080/"
        },
        "id": "LlCTDTn7EfhI",
        "outputId": "503dd6c7-4270-4b75-ef22-45b185358395"
      },
      "source": [
        "d = np.array([[1,2,3,5],[4,5,6,4],[8,9,0,3],[11,12,13,2]])\n",
        "print(d)"
      ],
      "execution_count": null,
      "outputs": [
        {
          "output_type": "stream",
          "name": "stdout",
          "text": [
            "[[ 1  2  3  5]\n",
            " [ 4  5  6  4]\n",
            " [ 8  9  0  3]\n",
            " [11 12 13  2]]\n"
          ]
        }
      ]
    },
    {
      "cell_type": "code",
      "metadata": {
        "colab": {
          "base_uri": "https://localhost:8080/"
        },
        "id": "fsOr2vYgEjdb",
        "outputId": "715c684a-9a0e-4e9a-a21f-6f91b8ac92f1"
      },
      "source": [
        "d[1:3,1:3]=[(6,5),(52,36)]\n",
        "print(d)"
      ],
      "execution_count": null,
      "outputs": [
        {
          "output_type": "stream",
          "name": "stdout",
          "text": [
            "[[ 1  2  3  5]\n",
            " [ 4  6  5  4]\n",
            " [ 8 52 36  3]\n",
            " [11 12 13  2]]\n"
          ]
        }
      ]
    },
    {
      "cell_type": "code",
      "metadata": {
        "colab": {
          "base_uri": "https://localhost:8080/"
        },
        "id": "taqxDQTDEnsu",
        "outputId": "c524a9eb-60ba-485d-df02-ac9d069fd955"
      },
      "source": [
        "e = np.ones((5,5))\n",
        "print(e)\n",
        "\n",
        "z = np.zeros((3,3))\n",
        "print(z)\n",
        "z[1,1] = 9\n",
        "print(z)\n",
        "\n",
        "e[1:4,1:4] = z\n",
        "print(e)"
      ],
      "execution_count": null,
      "outputs": [
        {
          "output_type": "stream",
          "name": "stdout",
          "text": [
            "[[1. 1. 1. 1. 1.]\n",
            " [1. 1. 1. 1. 1.]\n",
            " [1. 1. 1. 1. 1.]\n",
            " [1. 1. 1. 1. 1.]\n",
            " [1. 1. 1. 1. 1.]]\n",
            "[[0. 0. 0.]\n",
            " [0. 0. 0.]\n",
            " [0. 0. 0.]]\n",
            "[[0. 0. 0.]\n",
            " [0. 9. 0.]\n",
            " [0. 0. 0.]]\n",
            "[[1. 1. 1. 1. 1.]\n",
            " [1. 0. 0. 0. 1.]\n",
            " [1. 0. 9. 0. 1.]\n",
            " [1. 0. 0. 0. 1.]\n",
            " [1. 1. 1. 1. 1.]]\n"
          ]
        }
      ]
    },
    {
      "cell_type": "code",
      "metadata": {
        "colab": {
          "base_uri": "https://localhost:8080/"
        },
        "id": "DeRi9Px6EqI4",
        "outputId": "0ac1e920-32d0-4e38-b572-69d9f8a1a2cd"
      },
      "source": [
        "#designing such a 3*3 matrix withalmost every different element \n",
        "x = np.full((3,3),1)\n",
        "print(x)\n",
        "x[0:3,0:3] = ((1,2,3),(4,5,6),(7,8,9))\n",
        "print(x)"
      ],
      "execution_count": null,
      "outputs": [
        {
          "output_type": "stream",
          "name": "stdout",
          "text": [
            "[[1 1 1]\n",
            " [1 1 1]\n",
            " [1 1 1]]\n",
            "[[1 2 3]\n",
            " [4 5 6]\n",
            " [7 8 9]]\n"
          ]
        }
      ]
    },
    {
      "cell_type": "code",
      "metadata": {
        "colab": {
          "base_uri": "https://localhost:8080/"
        },
        "id": "uJbqmXrBEx0d",
        "outputId": "feb78b0b-2ff8-4ff3-96c6-b13268ab49cf"
      },
      "source": [
        "v = np.repeat(x,2,axis=1)\n",
        "print(v)"
      ],
      "execution_count": null,
      "outputs": [
        {
          "output_type": "stream",
          "name": "stdout",
          "text": [
            "[[1 1 2 2 3 3]\n",
            " [4 4 5 5 6 6]\n",
            " [7 7 8 8 9 9]]\n"
          ]
        }
      ]
    },
    {
      "cell_type": "code",
      "metadata": {
        "id": "AuhawutgE1On"
      },
      "source": [
        "if():\n",
        "  file = np.genfromtxt('./exercise.txt', delimiter=',')\n",
        "  open(\"./exercise.txt\")"
      ],
      "execution_count": null,
      "outputs": []
    },
    {
      "cell_type": "code",
      "metadata": {
        "colab": {
          "base_uri": "https://localhost:8080/"
        },
        "id": "UZZKmF_ZE_GO",
        "outputId": "37c44374-9db6-427e-8a12-12a62c820297"
      },
      "source": [
        "d = np.zeros(10)\n",
        "print(d)"
      ],
      "execution_count": null,
      "outputs": [
        {
          "output_type": "stream",
          "name": "stdout",
          "text": [
            "[0. 0. 0. 0. 0. 0. 0. 0. 0. 0.]\n"
          ]
        }
      ]
    },
    {
      "cell_type": "markdown",
      "metadata": {
        "id": "9BYf1l8pA96H"
      },
      "source": [
        ""
      ]
    }
  ]
}